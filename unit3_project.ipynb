{
 "cells": [
  {
   "cell_type": "markdown",
   "metadata": {},
   "source": [
    "<img src=\"http://imgur.com/1ZcRyrc.png\" style=\"float: left; margin: 20px; height: 55px\">\n",
    "\n",
    "# Unit 3 Project: Supervised Learning"
   ]
  },
  {
   "cell_type": "code",
   "execution_count": 22,
   "metadata": {},
   "outputs": [],
   "source": [
    "%matplotlib inline\n",
    "import matplotlib.pyplot as plt\n",
    "import numpy as np\n",
    "import pandas as pd\n",
    "import seaborn as sns"
   ]
  },
  {
   "cell_type": "markdown",
   "metadata": {},
   "source": [
    "In this project, you will practice the core skill of this course: supervised learning with passively collected, tabular, cross-sectional data. We will start with a regression problem, and then address a classification problem."
   ]
  },
  {
   "cell_type": "markdown",
   "metadata": {},
   "source": [
    "## Regression"
   ]
  },
  {
   "cell_type": "markdown",
   "metadata": {},
   "source": [
    "### Dataset"
   ]
  },
  {
   "cell_type": "code",
   "execution_count": 3,
   "metadata": {},
   "outputs": [],
   "source": [
    "# Load the dataset\n",
    "noise = pd.read_csv(\n",
    "    \"data/airfoil_self_noise.dat\",\n",
    "    delimiter=\"\\t\",\n",
    "    names=[\n",
    "        \"frequency\",\n",
    "        \"angle\",\n",
    "        \"chord_length\",\n",
    "        \"free_stream_velocity\",\n",
    "        \"displacement_thickness\",\n",
    "        \"self_noise\",\n",
    "    ],\n",
    ")"
   ]
  },
  {
   "cell_type": "markdown",
   "metadata": {},
   "source": [
    "- Read about this dataset [here](https://archive.ics.uci.edu/ml/datasets/Airfoil+Self-Noise). Write a short paragraph describing this dataset in your own words. How could a model for this dataset be useful?"
   ]
  },
  {
   "cell_type": "markdown",
   "metadata": {},
   "source": [
    "-This is a physics dataset from NASA that measures the impact of airfoils and their position on sound. All columns in this dataset are numerical and there are 5 feature columns that can be used to help predict scaled sound pressure levels. A ML model can help scientists understand the optimal features for reducing noise. Being able to predict noise levels can be useful in the design stages of future airfoils or help determine the ideal location to place noisier airfoils"
   ]
  },
  {
   "cell_type": "markdown",
   "metadata": {},
   "source": [
    "- Find out how many rows and columns are in `noise`."
   ]
  },
  {
   "cell_type": "code",
   "execution_count": 6,
   "metadata": {},
   "outputs": [
    {
     "data": {
      "text/plain": [
       "(1503, 6)"
      ]
     },
     "execution_count": 6,
     "metadata": {},
     "output_type": "execute_result"
    }
   ],
   "source": [
    "noise.shape\n",
    "#1503 rows, 6 columns"
   ]
  },
  {
   "cell_type": "markdown",
   "metadata": {},
   "source": [
    "- Find out what data types are present."
   ]
  },
  {
   "cell_type": "code",
   "execution_count": 7,
   "metadata": {},
   "outputs": [
    {
     "data": {
      "text/plain": [
       "frequency                   int64\n",
       "angle                     float64\n",
       "chord_length              float64\n",
       "free_stream_velocity      float64\n",
       "displacement_thickness    float64\n",
       "self_noise                float64\n",
       "dtype: object"
      ]
     },
     "execution_count": 7,
     "metadata": {},
     "output_type": "execute_result"
    }
   ],
   "source": [
    "noise.dtypes"
   ]
  },
  {
   "cell_type": "markdown",
   "metadata": {},
   "source": [
    "- Find out how many null values there are in each columns."
   ]
  },
  {
   "cell_type": "code",
   "execution_count": 8,
   "metadata": {},
   "outputs": [
    {
     "data": {
      "text/plain": [
       "frequency                 0\n",
       "angle                     0\n",
       "chord_length              0\n",
       "free_stream_velocity      0\n",
       "displacement_thickness    0\n",
       "self_noise                0\n",
       "dtype: int64"
      ]
     },
     "execution_count": 8,
     "metadata": {},
     "output_type": "execute_result"
    }
   ],
   "source": [
    "noise.isna().sum()"
   ]
  },
  {
   "cell_type": "markdown",
   "metadata": {},
   "source": [
    "- Check basic summary statistics for each column, including at least one measure of central tendency and one measure of dispersion."
   ]
  },
  {
   "cell_type": "code",
   "execution_count": 9,
   "metadata": {},
   "outputs": [
    {
     "data": {
      "text/html": [
       "<div>\n",
       "<style scoped>\n",
       "    .dataframe tbody tr th:only-of-type {\n",
       "        vertical-align: middle;\n",
       "    }\n",
       "\n",
       "    .dataframe tbody tr th {\n",
       "        vertical-align: top;\n",
       "    }\n",
       "\n",
       "    .dataframe thead th {\n",
       "        text-align: right;\n",
       "    }\n",
       "</style>\n",
       "<table border=\"1\" class=\"dataframe\">\n",
       "  <thead>\n",
       "    <tr style=\"text-align: right;\">\n",
       "      <th></th>\n",
       "      <th>frequency</th>\n",
       "      <th>angle</th>\n",
       "      <th>chord_length</th>\n",
       "      <th>free_stream_velocity</th>\n",
       "      <th>displacement_thickness</th>\n",
       "      <th>self_noise</th>\n",
       "    </tr>\n",
       "  </thead>\n",
       "  <tbody>\n",
       "    <tr>\n",
       "      <th>count</th>\n",
       "      <td>1503.000000</td>\n",
       "      <td>1503.000000</td>\n",
       "      <td>1503.000000</td>\n",
       "      <td>1503.000000</td>\n",
       "      <td>1503.000000</td>\n",
       "      <td>1503.000000</td>\n",
       "    </tr>\n",
       "    <tr>\n",
       "      <th>mean</th>\n",
       "      <td>2886.380572</td>\n",
       "      <td>6.782302</td>\n",
       "      <td>0.136548</td>\n",
       "      <td>50.860745</td>\n",
       "      <td>0.011140</td>\n",
       "      <td>124.835943</td>\n",
       "    </tr>\n",
       "    <tr>\n",
       "      <th>std</th>\n",
       "      <td>3152.573137</td>\n",
       "      <td>5.918128</td>\n",
       "      <td>0.093541</td>\n",
       "      <td>15.572784</td>\n",
       "      <td>0.013150</td>\n",
       "      <td>6.898657</td>\n",
       "    </tr>\n",
       "    <tr>\n",
       "      <th>min</th>\n",
       "      <td>200.000000</td>\n",
       "      <td>0.000000</td>\n",
       "      <td>0.025400</td>\n",
       "      <td>31.700000</td>\n",
       "      <td>0.000401</td>\n",
       "      <td>103.380000</td>\n",
       "    </tr>\n",
       "    <tr>\n",
       "      <th>25%</th>\n",
       "      <td>800.000000</td>\n",
       "      <td>2.000000</td>\n",
       "      <td>0.050800</td>\n",
       "      <td>39.600000</td>\n",
       "      <td>0.002535</td>\n",
       "      <td>120.191000</td>\n",
       "    </tr>\n",
       "    <tr>\n",
       "      <th>50%</th>\n",
       "      <td>1600.000000</td>\n",
       "      <td>5.400000</td>\n",
       "      <td>0.101600</td>\n",
       "      <td>39.600000</td>\n",
       "      <td>0.004957</td>\n",
       "      <td>125.721000</td>\n",
       "    </tr>\n",
       "    <tr>\n",
       "      <th>75%</th>\n",
       "      <td>4000.000000</td>\n",
       "      <td>9.900000</td>\n",
       "      <td>0.228600</td>\n",
       "      <td>71.300000</td>\n",
       "      <td>0.015576</td>\n",
       "      <td>129.995500</td>\n",
       "    </tr>\n",
       "    <tr>\n",
       "      <th>max</th>\n",
       "      <td>20000.000000</td>\n",
       "      <td>22.200000</td>\n",
       "      <td>0.304800</td>\n",
       "      <td>71.300000</td>\n",
       "      <td>0.058411</td>\n",
       "      <td>140.987000</td>\n",
       "    </tr>\n",
       "  </tbody>\n",
       "</table>\n",
       "</div>"
      ],
      "text/plain": [
       "          frequency        angle  chord_length  free_stream_velocity  \\\n",
       "count   1503.000000  1503.000000   1503.000000           1503.000000   \n",
       "mean    2886.380572     6.782302      0.136548             50.860745   \n",
       "std     3152.573137     5.918128      0.093541             15.572784   \n",
       "min      200.000000     0.000000      0.025400             31.700000   \n",
       "25%      800.000000     2.000000      0.050800             39.600000   \n",
       "50%     1600.000000     5.400000      0.101600             39.600000   \n",
       "75%     4000.000000     9.900000      0.228600             71.300000   \n",
       "max    20000.000000    22.200000      0.304800             71.300000   \n",
       "\n",
       "       displacement_thickness   self_noise  \n",
       "count             1503.000000  1503.000000  \n",
       "mean                 0.011140   124.835943  \n",
       "std                  0.013150     6.898657  \n",
       "min                  0.000401   103.380000  \n",
       "25%                  0.002535   120.191000  \n",
       "50%                  0.004957   125.721000  \n",
       "75%                  0.015576   129.995500  \n",
       "max                  0.058411   140.987000  "
      ]
     },
     "execution_count": 9,
     "metadata": {},
     "output_type": "execute_result"
    }
   ],
   "source": [
    "noise.describe()"
   ]
  },
  {
   "cell_type": "markdown",
   "metadata": {},
   "source": [
    "- Plot of the distribution of each column, e.g. with some combination of histograms, bar plots, and box plots."
   ]
  },
  {
   "cell_type": "code",
   "execution_count": 11,
   "metadata": {},
   "outputs": [
    {
     "data": {
      "image/png": "[encoded data removed]",
      "text/plain": [
       "<Figure size 432x288 with 1 Axes>"
      ]
     },
     "metadata": {
      "needs_background": "light"
     },
     "output_type": "display_data"
    }
   ],
   "source": [
    "ax = noise.loc[:, \"angle\"].plot.box()"
   ]
  },
  {
   "cell_type": "code",
   "execution_count": 12,
   "metadata": {},
   "outputs": [
    {
     "data": {
      "image/png": "[encoded data removed]",
      "text/plain": [
       "<Figure size 432x288 with 1 Axes>"
      ]
     },
     "metadata": {
      "needs_background": "light"
     },
     "output_type": "display_data"
    }
   ],
   "source": [
    "ax = noise.loc[:, \"chord_length\"].plot.box()"
   ]
  },
  {
   "cell_type": "code",
   "execution_count": 13,
   "metadata": {},
   "outputs": [
    {
     "data": {
      "image/png": "[encoded data removed]",
      "text/plain": [
       "<Figure size 432x288 with 1 Axes>"
      ]
     },
     "metadata": {
      "needs_background": "light"
     },
     "output_type": "display_data"
    }
   ],
   "source": [
    "ax = noise.loc[:, \"free_stream_velocity\"].plot.box()"
   ]
  },
  {
   "cell_type": "code",
   "execution_count": 14,
   "metadata": {},
   "outputs": [
    {
     "data": {
      "image/png": "[encoded data removed]",
      "text/plain": [
       "<Figure size 432x288 with 6 Axes>"
      ]
     },
     "metadata": {
      "needs_background": "light"
     },
     "output_type": "display_data"
    }
   ],
   "source": [
    "axes = noise.hist(bins=20)\n",
    "axes[0, 0].get_figure().tight_layout()"
   ]
  },
  {
   "cell_type": "markdown",
   "metadata": {},
   "source": [
    "- Which variables are approximately normally distributed?"
   ]
  },
  {
   "cell_type": "markdown",
   "metadata": {},
   "source": [
    "<li>self noise</li>\n",
    "<li> chord legnth </li> \n",
    "<li>angle</li>"
   ]
  },
  {
   "cell_type": "markdown",
   "metadata": {},
   "source": [
    "- Which variables show strong skew?"
   ]
  },
  {
   "cell_type": "markdown",
   "metadata": {},
   "source": [
    "<li>displacement thickness</li> <li>frequency </li>"
   ]
  },
  {
   "cell_type": "markdown",
   "metadata": {},
   "source": [
    "- Make a scatterplot of each feature variable with the target variable \"self_noise\"."
   ]
  },
  {
   "cell_type": "code",
   "execution_count": 15,
   "metadata": {},
   "outputs": [
    {
     "data": {
      "image/png": "[encoded data removed]",
      "text/plain": [
       "<Figure size 900x180 with 5 Axes>"
      ]
     },
     "metadata": {
      "needs_background": "light"
     },
     "output_type": "display_data"
    }
   ],
   "source": [
    "g = sns.pairplot(\n",
    "    data=noise,\n",
    "    x_vars=noise.columns.drop(\"self_noise\"),\n",
    "    y_vars=[\"self_noise\"]\n",
    "   \n",
    ")"
   ]
  },
  {
   "cell_type": "markdown",
   "metadata": {},
   "source": [
    "- Make a heatmap of the correlation matrix for this dataset. Be sure to use an appropriate colormap!"
   ]
  },
  {
   "cell_type": "code",
   "execution_count": 16,
   "metadata": {},
   "outputs": [
    {
     "data": {
      "text/html": [
       "<div>\n",
       "<style scoped>\n",
       "    .dataframe tbody tr th:only-of-type {\n",
       "        vertical-align: middle;\n",
       "    }\n",
       "\n",
       "    .dataframe tbody tr th {\n",
       "        vertical-align: top;\n",
       "    }\n",
       "\n",
       "    .dataframe thead th {\n",
       "        text-align: right;\n",
       "    }\n",
       "</style>\n",
       "<table border=\"1\" class=\"dataframe\">\n",
       "  <thead>\n",
       "    <tr style=\"text-align: right;\">\n",
       "      <th></th>\n",
       "      <th>frequency</th>\n",
       "      <th>angle</th>\n",
       "      <th>chord_length</th>\n",
       "      <th>free_stream_velocity</th>\n",
       "      <th>displacement_thickness</th>\n",
       "      <th>self_noise</th>\n",
       "    </tr>\n",
       "  </thead>\n",
       "  <tbody>\n",
       "    <tr>\n",
       "      <th>frequency</th>\n",
       "      <td>1.000000</td>\n",
       "      <td>-0.272765</td>\n",
       "      <td>-0.003661</td>\n",
       "      <td>0.133664</td>\n",
       "      <td>-0.230107</td>\n",
       "      <td>-0.390711</td>\n",
       "    </tr>\n",
       "    <tr>\n",
       "      <th>angle</th>\n",
       "      <td>-0.272765</td>\n",
       "      <td>1.000000</td>\n",
       "      <td>-0.504868</td>\n",
       "      <td>0.058760</td>\n",
       "      <td>0.753394</td>\n",
       "      <td>-0.156108</td>\n",
       "    </tr>\n",
       "    <tr>\n",
       "      <th>chord_length</th>\n",
       "      <td>-0.003661</td>\n",
       "      <td>-0.504868</td>\n",
       "      <td>1.000000</td>\n",
       "      <td>0.003787</td>\n",
       "      <td>-0.220842</td>\n",
       "      <td>-0.236162</td>\n",
       "    </tr>\n",
       "    <tr>\n",
       "      <th>free_stream_velocity</th>\n",
       "      <td>0.133664</td>\n",
       "      <td>0.058760</td>\n",
       "      <td>0.003787</td>\n",
       "      <td>1.000000</td>\n",
       "      <td>-0.003974</td>\n",
       "      <td>0.125103</td>\n",
       "    </tr>\n",
       "    <tr>\n",
       "      <th>displacement_thickness</th>\n",
       "      <td>-0.230107</td>\n",
       "      <td>0.753394</td>\n",
       "      <td>-0.220842</td>\n",
       "      <td>-0.003974</td>\n",
       "      <td>1.000000</td>\n",
       "      <td>-0.312670</td>\n",
       "    </tr>\n",
       "    <tr>\n",
       "      <th>self_noise</th>\n",
       "      <td>-0.390711</td>\n",
       "      <td>-0.156108</td>\n",
       "      <td>-0.236162</td>\n",
       "      <td>0.125103</td>\n",
       "      <td>-0.312670</td>\n",
       "      <td>1.000000</td>\n",
       "    </tr>\n",
       "  </tbody>\n",
       "</table>\n",
       "</div>"
      ],
      "text/plain": [
       "                        frequency     angle  chord_length  \\\n",
       "frequency                1.000000 -0.272765     -0.003661   \n",
       "angle                   -0.272765  1.000000     -0.504868   \n",
       "chord_length            -0.003661 -0.504868      1.000000   \n",
       "free_stream_velocity     0.133664  0.058760      0.003787   \n",
       "displacement_thickness  -0.230107  0.753394     -0.220842   \n",
       "self_noise              -0.390711 -0.156108     -0.236162   \n",
       "\n",
       "                        free_stream_velocity  displacement_thickness  \\\n",
       "frequency                           0.133664               -0.230107   \n",
       "angle                               0.058760                0.753394   \n",
       "chord_length                        0.003787               -0.220842   \n",
       "free_stream_velocity                1.000000               -0.003974   \n",
       "displacement_thickness             -0.003974                1.000000   \n",
       "self_noise                          0.125103               -0.312670   \n",
       "\n",
       "                        self_noise  \n",
       "frequency                -0.390711  \n",
       "angle                    -0.156108  \n",
       "chord_length             -0.236162  \n",
       "free_stream_velocity      0.125103  \n",
       "displacement_thickness   -0.312670  \n",
       "self_noise                1.000000  "
      ]
     },
     "execution_count": 16,
     "metadata": {},
     "output_type": "execute_result"
    }
   ],
   "source": [
    "noise.corr()"
   ]
  },
  {
   "cell_type": "code",
   "execution_count": 17,
   "metadata": {},
   "outputs": [
    {
     "data": {
      "image/png": "[encoded data removed]",
      "text/plain": [
       "<Figure size 432x288 with 2 Axes>"
      ]
     },
     "metadata": {
      "needs_background": "light"
     },
     "output_type": "display_data"
    }
   ],
   "source": [
    "ax = sns.heatmap(\n",
    "    noise.corr(),\n",
    "    vmin=-1,\n",
    "    vmax=1,\n",
    "    cmap=sns.diverging_palette(h_neg=220, h_pos=10, n=21),\n",
    "    annot=True\n",
    ")"
   ]
  },
  {
   "cell_type": "markdown",
   "metadata": {},
   "source": [
    "- What do you notice about this dataset that will make a difference to how you model it? Feel free to do additional EDA at this point."
   ]
  },
  {
   "cell_type": "markdown",
   "metadata": {},
   "source": [
    "##### 1.) Not noticing a linear correlation between our feature variables and self noise. 2.) Given that we are working with different measurements may need to standardize our features at some point. "
   ]
  },
  {
   "cell_type": "markdown",
   "metadata": {},
   "source": [
    "### Linear Regression"
   ]
  },
  {
   "cell_type": "markdown",
   "metadata": {},
   "source": [
    "- Develop a linear regression model to predict the target variable \"self_noise\". Train it on 70% of the data. Gets its R-squared score on both that 70% and the other 30%. At this point just do the bare minimum to get the model to run, without worrying about feature engineering or other practices you might use to improve the model."
   ]
  },
  {
   "cell_type": "code",
   "execution_count": 23,
   "metadata": {},
   "outputs": [],
   "source": [
    "X = noise.drop(\"self_noise\", axis=\"columns\")\n",
    "y = noise.loc[:, \"self_noise\"]"
   ]
  },
  {
   "cell_type": "code",
   "execution_count": 24,
   "metadata": {},
   "outputs": [],
   "source": [
    "from sklearn.model_selection import train_test_split\n",
    "\n",
    "X_train, X_test, y_train, y_test = train_test_split(X, y, test_size=.3)"
   ]
  },
  {
   "cell_type": "code",
   "execution_count": 25,
   "metadata": {},
   "outputs": [
    {
     "data": {
      "text/plain": [
       "LinearRegression()"
      ]
     },
     "execution_count": 25,
     "metadata": {},
     "output_type": "execute_result"
    }
   ],
   "source": [
    "from sklearn.linear_model import LinearRegression\n",
    "lr_3 = LinearRegression()\n",
    "lr_3.fit(X_train, y_train)"
   ]
  },
  {
   "cell_type": "code",
   "execution_count": 26,
   "metadata": {},
   "outputs": [
    {
     "name": "stdout",
     "output_type": "stream",
     "text": [
      "Training-set R-squared: 0.5091856804447686\n",
      "Test-set R-squared: 0.5287166709832288\n"
     ]
    }
   ],
   "source": [
    "print(\"Training-set R-squared:\", lr_3.score(X_train, y_train))\n",
    "print(\"Test-set R-squared:\", lr_3.score(X_test, y_test))"
   ]
  },
  {
   "cell_type": "markdown",
   "metadata": {},
   "source": [
    "- How well did your model perform on the training set compared to the null model? What does this result tell you about the bias and/or variance of your model?"
   ]
  },
  {
   "cell_type": "markdown",
   "metadata": {},
   "source": [
    "##### Our model performed better than the \"null model.\" Our model's mean squared error is 50% percent smaller than the null model's - which just predicts the average self noise each time."
   ]
  },
  {
   "cell_type": "markdown",
   "metadata": {},
   "source": [
    "- How well did your model perform on the test set compared to how well it performed on the training set? What does this result tell you about the bias and/or variance of your model?"
   ]
  },
  {
   "cell_type": "markdown",
   "metadata": {},
   "source": [
    "##### While the model performed similarly on the test and train set, the training set seems to have performed fairly poorly. The small gap between train & test indicates the model doesnt appear to be over or under fitting, indicating there is a good balance between variance and bias. "
   ]
  },
  {
   "cell_type": "markdown",
   "metadata": {},
   "source": [
    "- Does your model appear to have more of a bias problem or more of a variance problem? Why?"
   ]
  },
  {
   "cell_type": "markdown",
   "metadata": {},
   "source": [
    "##### The model appears to have more of a bias problem. While it is hard to say for sure I feel like we can improve the training score. We aren't seeing a big variance problem given the small gap between test/train set"
   ]
  },
  {
   "cell_type": "markdown",
   "metadata": {},
   "source": [
    "### Random Forest"
   ]
  },
  {
   "cell_type": "markdown",
   "metadata": {},
   "source": [
    "- Develop a random forest model with 100 or more trees to predict the target variable. Train it on 70% of the data. Gets its R-squared score on both that 70% and the other 30%. At this point just do the bare minimum to get the model to run, without worrying about feature engineering or other practices you might use to improve the model.\n",
    "\n",
    "You can do this exercise even if we haven't covered random forests in class yet. Just do `from sklearn.ensemble import RandomForestRegressor` and then use `RandomForestRegressor` like any other scikit-learn estimator."
   ]
  },
  {
   "cell_type": "code",
   "execution_count": 22,
   "metadata": {},
   "outputs": [],
   "source": [
    "target_col = \"self_noise\"\n",
    "X = noise.drop(\"self_noise\", axis=\"columns\")\n",
    "y = noise.loc[:, \"self_noise\"]"
   ]
  },
  {
   "cell_type": "code",
   "execution_count": 27,
   "metadata": {},
   "outputs": [
    {
     "name": "stdout",
     "output_type": "stream",
     "text": [
      "Training-set R-squared: 0.9889474867351201\n",
      "Test-set R-squared: 0.9224500851537936\n"
     ]
    }
   ],
   "source": [
    "from sklearn.ensemble import RandomForestRegressor\n",
    "\n",
    "rfr = RandomForestRegressor(n_estimators=100)\n",
    "X_train, X_test, y_train, y_test = train_test_split(X, y, test_size=.3)\n",
    "rfr.fit(X_train, y_train)\n",
    "print(\"Training-set R-squared:\", rfr.score(X_train, y_train))\n",
    "print(\"Test-set R-squared:\", rfr.score(X_test, y_test))"
   ]
  },
  {
   "cell_type": "markdown",
   "metadata": {},
   "source": [
    "- Compare the bias, variance, and overall predictive performance of your random forest model to that of your linear regression model."
   ]
  },
  {
   "cell_type": "markdown",
   "metadata": {},
   "source": [
    "##### random forest performed a lot better in terms of overall predictive performance. That being said, the overall variance of the RF model is higher (train set performed better than test set). Random forest has more of a variance problem than bias"
   ]
  },
  {
   "cell_type": "markdown",
   "metadata": {},
   "source": [
    "- Find a way to get a better score from either linear regression or a random forest. Make notes about what you are trying and why."
   ]
  },
  {
   "cell_type": "code",
   "execution_count": 30,
   "metadata": {},
   "outputs": [],
   "source": [
    "#because we have multiple features on different scales we should attempt to standardize our features. \n",
    "\n",
    "from sklearn.preprocessing import StandardScaler\n",
    "\n"
   ]
  },
  {
   "cell_type": "code",
   "execution_count": 31,
   "metadata": {},
   "outputs": [],
   "source": [
    "X_train, X_test, y_train, y_test = train_test_split(X, y, test_size=.3)"
   ]
  },
  {
   "cell_type": "code",
   "execution_count": 32,
   "metadata": {},
   "outputs": [],
   "source": [
    "scaler = StandardScaler()\n",
    "scaler.fit(X_train)\n",
    "X_train = scaler.transform(X_train)\n",
    "X_test = scaler.transform(X_test)"
   ]
  },
  {
   "cell_type": "code",
   "execution_count": 33,
   "metadata": {},
   "outputs": [
    {
     "data": {
      "text/plain": [
       "LinearRegression()"
      ]
     },
     "execution_count": 33,
     "metadata": {},
     "output_type": "execute_result"
    }
   ],
   "source": [
    "X = noise.drop(\"self_noise\", axis=\"columns\")\n",
    "y = noise.loc[:, \"self_noise\"]\n",
    "\n",
    "from sklearn.linear_model import LinearRegression\n",
    "\n",
    "lr = LinearRegression()\n",
    "lr.fit(X_train, y_train)"
   ]
  },
  {
   "cell_type": "code",
   "execution_count": 34,
   "metadata": {},
   "outputs": [
    {
     "name": "stdout",
     "output_type": "stream",
     "text": [
      "0.5176192435416569\n",
      "0.512993927985931\n"
     ]
    }
   ],
   "source": [
    "print(lr.score(X_test,y_test))\n",
    "print(lr.score(X_train,y_train))"
   ]
  },
  {
   "cell_type": "code",
   "execution_count": 37,
   "metadata": {},
   "outputs": [],
   "source": [
    "#standardizing our features in of itself didn't do anything. \n",
    "#Will try making the model more complex by adding nominal features \n",
    "#Polynomial Features will allow us to add our to the powers 2 through 3. "
   ]
  },
  {
   "cell_type": "code",
   "execution_count": 35,
   "metadata": {},
   "outputs": [
    {
     "data": {
      "text/plain": [
       "LinearRegression()"
      ]
     },
     "execution_count": 35,
     "metadata": {},
     "output_type": "execute_result"
    }
   ],
   "source": [
    "from sklearn.preprocessing import PolynomialFeatures\n",
    "pf= PolynomialFeatures(degree=3,include_bias=False)\n",
    "X_train = pf.fit_transform(X_train)\n",
    "X_test  = pf.fit_transform(X_test)\n",
    "lr.fit(X_train, y_train)"
   ]
  },
  {
   "cell_type": "code",
   "execution_count": 36,
   "metadata": {},
   "outputs": [
    {
     "name": "stdout",
     "output_type": "stream",
     "text": [
      "0.756047382145806\n",
      "0.7547373028388771\n"
     ]
    }
   ],
   "source": [
    "print(lr.score(X_test,y_test))\n",
    "print(lr.score(X_train,y_train))"
   ]
  },
  {
   "cell_type": "markdown",
   "metadata": {},
   "source": [
    "*When we add powers 2 through 5 the model performs better but we see that it overfits. Degree=3 improves our score without overfitting the model* "
   ]
  },
  {
   "cell_type": "markdown",
   "metadata": {},
   "source": [
    "- **BONUS:** Keep going! Find ways to make your model better."
   ]
  },
  {
   "cell_type": "code",
   "execution_count": null,
   "metadata": {},
   "outputs": [],
   "source": []
  },
  {
   "cell_type": "markdown",
   "metadata": {},
   "source": [
    "## Classification"
   ]
  },
  {
   "cell_type": "markdown",
   "metadata": {},
   "source": [
    "### Dataset"
   ]
  },
  {
   "cell_type": "markdown",
   "metadata": {},
   "source": [
    "- Read about this dataset [here](https://archive.ics.uci.edu/ml/datasets/Credit+Approval). Write a short paragraph describing this dataset in your own words. How could a model for this dataset be useful?"
   ]
  },
  {
   "cell_type": "markdown",
   "metadata": {},
   "source": [
    "This dataset contains information regarding credit card applications. It is consistent of both numerical and categorical data and has several missing values. Also worth noting that the columns are unnamed. Given how many applications banks must receive, manual evaluation of applications is likely time consuming and prone to error. a good ML model can help save time, and provide a more accurate, streamlined reading of these appications "
   ]
  },
  {
   "cell_type": "code",
   "execution_count": 28,
   "metadata": {},
   "outputs": [],
   "source": [
    "# Load the dataset\n",
    "credit = pd.read_csv(\"data/crx.data\", names=range(1, 17))"
   ]
  },
  {
   "cell_type": "markdown",
   "metadata": {},
   "source": [
    "- Find out how many rows and columns are in `credit`."
   ]
  },
  {
   "cell_type": "code",
   "execution_count": 29,
   "metadata": {},
   "outputs": [
    {
     "data": {
      "text/plain": [
       "(690, 16)"
      ]
     },
     "execution_count": 29,
     "metadata": {},
     "output_type": "execute_result"
    }
   ],
   "source": [
    "credit.shape\n",
    "#690 rows, 16 columns"
   ]
  },
  {
   "cell_type": "markdown",
   "metadata": {},
   "source": [
    "- Find out what data types are present."
   ]
  },
  {
   "cell_type": "code",
   "execution_count": 31,
   "metadata": {},
   "outputs": [
    {
     "data": {
      "text/plain": [
       "1      object\n",
       "2      object\n",
       "3     float64\n",
       "4      object\n",
       "5      object\n",
       "6      object\n",
       "7      object\n",
       "8     float64\n",
       "9      object\n",
       "10     object\n",
       "11      int64\n",
       "12     object\n",
       "13     object\n",
       "14     object\n",
       "15      int64\n",
       "16     object\n",
       "dtype: object"
      ]
     },
     "execution_count": 31,
     "metadata": {},
     "output_type": "execute_result"
    }
   ],
   "source": [
    "credit.dtypes"
   ]
  },
  {
   "cell_type": "markdown",
   "metadata": {},
   "source": [
    "- Columns 2 and 14 are \"object\" but are listed as \"continuous\" in the dataset description. Tranform these columns to have the appropriate data type. You will need to deal with the special character \"?\""
   ]
  },
  {
   "cell_type": "code",
   "execution_count": 32,
   "metadata": {},
   "outputs": [],
   "source": [
    "credit = credit.replace(to_replace='?',value=np.nan)"
   ]
  },
  {
   "cell_type": "code",
   "execution_count": 33,
   "metadata": {},
   "outputs": [],
   "source": [
    "credit[[2, 14]] = credit[[2, 14]].apply(pd.to_numeric)"
   ]
  },
  {
   "cell_type": "code",
   "execution_count": 34,
   "metadata": {},
   "outputs": [
    {
     "data": {
      "text/plain": [
       "1      object\n",
       "2     float64\n",
       "3     float64\n",
       "4      object\n",
       "5      object\n",
       "6      object\n",
       "7      object\n",
       "8     float64\n",
       "9      object\n",
       "10     object\n",
       "11      int64\n",
       "12     object\n",
       "13     object\n",
       "14    float64\n",
       "15      int64\n",
       "16     object\n",
       "dtype: object"
      ]
     },
     "execution_count": 34,
     "metadata": {},
     "output_type": "execute_result"
    }
   ],
   "source": [
    "credit.dtypes"
   ]
  },
  {
   "cell_type": "markdown",
   "metadata": {},
   "source": [
    "- Find out how many null values there are in each columns."
   ]
  },
  {
   "cell_type": "code",
   "execution_count": 35,
   "metadata": {},
   "outputs": [
    {
     "data": {
      "text/plain": [
       "1     12\n",
       "2     12\n",
       "3      0\n",
       "4      6\n",
       "5      6\n",
       "6      9\n",
       "7      9\n",
       "8      0\n",
       "9      0\n",
       "10     0\n",
       "11     0\n",
       "12     0\n",
       "13     0\n",
       "14    13\n",
       "15     0\n",
       "16     0\n",
       "dtype: int64"
      ]
     },
     "execution_count": 35,
     "metadata": {},
     "output_type": "execute_result"
    }
   ],
   "source": [
    "credit.isna().sum()"
   ]
  },
  {
   "cell_type": "markdown",
   "metadata": {},
   "source": [
    "- Check basic summary information for each column, including categorical columns."
   ]
  },
  {
   "cell_type": "code",
   "execution_count": 36,
   "metadata": {},
   "outputs": [
    {
     "name": "stdout",
     "output_type": "stream",
     "text": [
      "<class 'pandas.core.frame.DataFrame'>\n",
      "RangeIndex: 690 entries, 0 to 689\n",
      "Data columns (total 16 columns):\n",
      " #   Column  Non-Null Count  Dtype  \n",
      "---  ------  --------------  -----  \n",
      " 0   1       678 non-null    object \n",
      " 1   2       678 non-null    float64\n",
      " 2   3       690 non-null    float64\n",
      " 3   4       684 non-null    object \n",
      " 4   5       684 non-null    object \n",
      " 5   6       681 non-null    object \n",
      " 6   7       681 non-null    object \n",
      " 7   8       690 non-null    float64\n",
      " 8   9       690 non-null    object \n",
      " 9   10      690 non-null    object \n",
      " 10  11      690 non-null    int64  \n",
      " 11  12      690 non-null    object \n",
      " 12  13      690 non-null    object \n",
      " 13  14      677 non-null    float64\n",
      " 14  15      690 non-null    int64  \n",
      " 15  16      690 non-null    object \n",
      "dtypes: float64(4), int64(2), object(10)\n",
      "memory usage: 86.4+ KB\n"
     ]
    }
   ],
   "source": [
    "credit.info()"
   ]
  },
  {
   "cell_type": "code",
   "execution_count": 37,
   "metadata": {},
   "outputs": [
    {
     "name": "stdout",
     "output_type": "stream",
     "text": [
      "               2           3           8          11           14  \\\n",
      "count  678.000000  690.000000  690.000000  690.00000   677.000000   \n",
      "mean    31.568171    4.758725    2.223406    2.40000   184.014771   \n",
      "std     11.957862    4.978163    3.346513    4.86294   173.806768   \n",
      "min     13.750000    0.000000    0.000000    0.00000     0.000000   \n",
      "25%     22.602500    1.000000    0.165000    0.00000    75.000000   \n",
      "50%     28.460000    2.750000    1.000000    0.00000   160.000000   \n",
      "75%     38.230000    7.207500    2.625000    3.00000   276.000000   \n",
      "max     80.250000   28.000000   28.500000   67.00000  2000.000000   \n",
      "\n",
      "                  15  \n",
      "count     690.000000  \n",
      "mean     1017.385507  \n",
      "std      5210.102598  \n",
      "min         0.000000  \n",
      "25%         0.000000  \n",
      "50%         5.000000  \n",
      "75%       395.500000  \n",
      "max    100000.000000  \n"
     ]
    }
   ],
   "source": [
    "credit_description = credit.describe()\n",
    "print(credit_description)"
   ]
  },
  {
   "cell_type": "markdown",
   "metadata": {},
   "source": [
    "- Plot of the distribution of each column, e.g. with some combination of histograms, bar plots, and box plots."
   ]
  },
  {
   "cell_type": "code",
   "execution_count": 38,
   "metadata": {},
   "outputs": [
    {
     "data": {
      "image/png": "[encoded data removed]",
      "text/plain": [
       "<Figure size 1080x1440 with 6 Axes>"
      ]
     },
     "metadata": {
      "needs_background": "light"
     },
     "output_type": "display_data"
    }
   ],
   "source": [
    "##numerical column distribution\n",
    "ax1 = credit.hist(figsize=(15,20), bins = 25)"
   ]
  },
  {
   "cell_type": "code",
   "execution_count": 39,
   "metadata": {},
   "outputs": [
    {
     "data": {
      "text/plain": [
       "<seaborn.axisgrid.FacetGrid at 0x11e5d5910>"
      ]
     },
     "execution_count": 39,
     "metadata": {},
     "output_type": "execute_result"
    },
    {
     "data": {
      "image/png": "[encoded data removed]",
      "text/plain": [
       "<Figure size 360x360 with 1 Axes>"
      ]
     },
     "metadata": {
      "needs_background": "light"
     },
     "output_type": "display_data"
    },
    {
     "data": {
      "image/png": "[encoded data removed]",
      "text/plain": [
       "<Figure size 360x360 with 1 Axes>"
      ]
     },
     "metadata": {
      "needs_background": "light"
     },
     "output_type": "display_data"
    },
    {
     "data": {
      "image/png": "[encoded data removed]",
      "text/plain": [
       "<Figure size 360x360 with 1 Axes>"
      ]
     },
     "metadata": {
      "needs_background": "light"
     },
     "output_type": "display_data"
    },
    {
     "data": {
      "image/png": "[encoded data removed]",
      "text/plain": [
       "<Figure size 360x360 with 1 Axes>"
      ]
     },
     "metadata": {
      "needs_background": "light"
     },
     "output_type": "display_data"
    },
    {
     "data": {
      "image/png": "[encoded data removed]",
      "text/plain": [
       "<Figure size 360x360 with 1 Axes>"
      ]
     },
     "metadata": {
      "needs_background": "light"
     },
     "output_type": "display_data"
    },
    {
     "data": {
      "image/png": "[encoded data removed]",
      "text/plain": [
       "<Figure size 360x360 with 1 Axes>"
      ]
     },
     "metadata": {
      "needs_background": "light"
     },
     "output_type": "display_data"
    },
    {
     "data": {
      "image/png": "[encoded data removed]",
      "text/plain": [
       "<Figure size 360x360 with 1 Axes>"
      ]
     },
     "metadata": {
      "needs_background": "light"
     },
     "output_type": "display_data"
    },
    {
     "data": {
      "image/png": "[encoded data removed]",
      "text/plain": [
       "<Figure size 360x360 with 1 Axes>"
      ]
     },
     "metadata": {
      "needs_background": "light"
     },
     "output_type": "display_data"
    }
   ],
   "source": [
    "#categorical feature distribution\n",
    "\n",
    "sns.catplot(x=4, kind=\"count\", palette=\"ch:.25\", data=credit)\n",
    "sns.catplot(x=6, kind=\"count\", palette=\"ch:.25\", data=credit)\n",
    "sns.catplot(x=7, kind=\"count\", palette=\"ch:.25\", data=credit)\n",
    "sns.catplot(x=10, kind=\"count\", palette=\"ch:.25\", data=credit)\n",
    "sns.catplot(x=1, kind=\"count\", palette=\"ch:.25\", data=credit)\n",
    "sns.catplot(x=12, kind=\"count\", palette=\"ch:.25\", data=credit)\n",
    "sns.catplot(x=13, kind=\"count\", palette=\"ch:.25\", data=credit)\n",
    "sns.catplot(x=16, kind=\"count\", palette=\"ch:.25\", data=credit)"
   ]
  },
  {
   "cell_type": "markdown",
   "metadata": {},
   "source": [
    "- Which variables are approximately normally distributed?"
   ]
  },
  {
   "cell_type": "markdown",
   "metadata": {},
   "source": [
    "6, 10, 12"
   ]
  },
  {
   "cell_type": "markdown",
   "metadata": {},
   "source": [
    "- Which variables show strong skew?"
   ]
  },
  {
   "cell_type": "markdown",
   "metadata": {},
   "source": [
    "15, 8, 7, 4, 13"
   ]
  },
  {
   "cell_type": "markdown",
   "metadata": {},
   "source": [
    "- Make a scatterplot of each feature variable with the target variable (`16`)."
   ]
  },
  {
   "cell_type": "code",
   "execution_count": 40,
   "metadata": {},
   "outputs": [],
   "source": [
    "#since our outcome is categorical, I will calculate the mean value of the target for each class of the numerical features\n",
    "#going to drop column 15 and visualize it separately since it won't all fit in one chart"
   ]
  },
  {
   "cell_type": "code",
   "execution_count": 43,
   "metadata": {},
   "outputs": [],
   "source": [
    "credit_new = credit.rename(columns={3: \"3A\", 2: \"2A\",8: \"8A\", 11: \"11A\",14: \"14A\",15: \"15A\",16: \"16A\"})"
   ]
  },
  {
   "cell_type": "code",
   "execution_count": 44,
   "metadata": {},
   "outputs": [
    {
     "data": {
      "image/png": "[encoded data removed]",
      "text/plain": [
       "<Figure size 432x288 with 1 Axes>"
      ]
     },
     "metadata": {
      "needs_background": "light"
     },
     "output_type": "display_data"
    }
   ],
   "source": [
    "ax1 = sns.boxplot(x=\"8A\", y=\"16A\", data=credit_new)"
   ]
  },
  {
   "cell_type": "code",
   "execution_count": 45,
   "metadata": {},
   "outputs": [
    {
     "data": {
      "image/png": "[encoded data removed]",
      "text/plain": [
       "<Figure size 432x288 with 1 Axes>"
      ]
     },
     "metadata": {
      "needs_background": "light"
     },
     "output_type": "display_data"
    }
   ],
   "source": [
    "ax4 = sns.boxplot(x=\"2A\", y=\"16A\", data=credit_new)"
   ]
  },
  {
   "cell_type": "code",
   "execution_count": 46,
   "metadata": {},
   "outputs": [
    {
     "data": {
      "image/png": "[encoded data removed]",
      "text/plain": [
       "<Figure size 432x288 with 1 Axes>"
      ]
     },
     "metadata": {
      "needs_background": "light"
     },
     "output_type": "display_data"
    }
   ],
   "source": [
    "ax5 = sns.boxplot(x=\"3A\", y=\"16A\", data=credit_new)"
   ]
  },
  {
   "cell_type": "code",
   "execution_count": 47,
   "metadata": {},
   "outputs": [
    {
     "data": {
      "image/png": "[encoded data removed]",
      "text/plain": [
       "<Figure size 432x288 with 1 Axes>"
      ]
     },
     "metadata": {
      "needs_background": "light"
     },
     "output_type": "display_data"
    }
   ],
   "source": [
    "ax3 = sns.boxplot(x=\"14A\", y=\"16A\", data=credit_new)"
   ]
  },
  {
   "cell_type": "code",
   "execution_count": 48,
   "metadata": {},
   "outputs": [
    {
     "data": {
      "image/png": "[encoded data removed]",
      "text/plain": [
       "<Figure size 432x288 with 1 Axes>"
      ]
     },
     "metadata": {
      "needs_background": "light"
     },
     "output_type": "display_data"
    }
   ],
   "source": [
    "ax5 = sns.boxplot(x=\"11A\", y=\"16A\", data=credit_new)"
   ]
  },
  {
   "cell_type": "code",
   "execution_count": 49,
   "metadata": {},
   "outputs": [],
   "source": [
    "mean_by_outcome=credit.groupby(16).agg(\"mean\")"
   ]
  },
  {
   "cell_type": "code",
   "execution_count": 50,
   "metadata": {},
   "outputs": [],
   "source": [
    "mean_by_credit_outcome= mean_by_outcome.drop({15,14}, axis=\"columns\")"
   ]
  },
  {
   "cell_type": "code",
   "execution_count": 51,
   "metadata": {},
   "outputs": [
    {
     "data": {
      "image/png": "[encoded data removed]",
      "text/plain": [
       "<Figure size 432x288 with 1 Axes>"
      ]
     },
     "metadata": {
      "needs_background": "light"
     },
     "output_type": "display_data"
    }
   ],
   "source": [
    "ax = mean_by_credit_outcome.plot.bar()"
   ]
  },
  {
   "cell_type": "code",
   "execution_count": 52,
   "metadata": {},
   "outputs": [],
   "source": [
    "mean_by_credit_outcome1= mean_by_outcome.drop({2,3,8,11}, axis=\"columns\")"
   ]
  },
  {
   "cell_type": "code",
   "execution_count": 53,
   "metadata": {},
   "outputs": [
    {
     "data": {
      "image/png": "[encoded data removed]",
      "text/plain": [
       "<Figure size 432x288 with 1 Axes>"
      ]
     },
     "metadata": {
      "needs_background": "light"
     },
     "output_type": "display_data"
    }
   ],
   "source": [
    "ax = mean_by_credit_outcome1.plot.bar()"
   ]
  },
  {
   "cell_type": "code",
   "execution_count": 54,
   "metadata": {},
   "outputs": [
    {
     "data": {
      "text/plain": [
       "<matplotlib.axes._subplots.AxesSubplot at 0x1200d65e0>"
      ]
     },
     "execution_count": 54,
     "metadata": {},
     "output_type": "execute_result"
    },
    {
     "data": {
      "image/png": "[encoded data removed]",
      "text/plain": [
       "<Figure size 432x288 with 1 Axes>"
      ]
     },
     "metadata": {
      "needs_background": "light"
     },
     "output_type": "display_data"
    }
   ],
   "source": [
    "count_by_outcome2=credit.groupby(16).agg(\"count\")\n",
    "count_by_outcome2.plot.bar()"
   ]
  },
  {
   "cell_type": "markdown",
   "metadata": {},
   "source": [
    "- Make a heatmap of the correlation matrix for numeric variables in this dataset. Be sure to use an appropriate colormap!"
   ]
  },
  {
   "cell_type": "code",
   "execution_count": 55,
   "metadata": {},
   "outputs": [
    {
     "data": {
      "text/html": [
       "<div>\n",
       "<style scoped>\n",
       "    .dataframe tbody tr th:only-of-type {\n",
       "        vertical-align: middle;\n",
       "    }\n",
       "\n",
       "    .dataframe tbody tr th {\n",
       "        vertical-align: top;\n",
       "    }\n",
       "\n",
       "    .dataframe thead th {\n",
       "        text-align: right;\n",
       "    }\n",
       "</style>\n",
       "<table border=\"1\" class=\"dataframe\">\n",
       "  <thead>\n",
       "    <tr style=\"text-align: right;\">\n",
       "      <th></th>\n",
       "      <th>2</th>\n",
       "      <th>3</th>\n",
       "      <th>8</th>\n",
       "      <th>11</th>\n",
       "      <th>14</th>\n",
       "      <th>15</th>\n",
       "    </tr>\n",
       "  </thead>\n",
       "  <tbody>\n",
       "    <tr>\n",
       "      <th>2</th>\n",
       "      <td>1.000000</td>\n",
       "      <td>0.202317</td>\n",
       "      <td>0.395751</td>\n",
       "      <td>0.185912</td>\n",
       "      <td>-0.079812</td>\n",
       "      <td>0.018553</td>\n",
       "    </tr>\n",
       "    <tr>\n",
       "      <th>3</th>\n",
       "      <td>0.202317</td>\n",
       "      <td>1.000000</td>\n",
       "      <td>0.298902</td>\n",
       "      <td>0.271207</td>\n",
       "      <td>-0.224242</td>\n",
       "      <td>0.123121</td>\n",
       "    </tr>\n",
       "    <tr>\n",
       "      <th>8</th>\n",
       "      <td>0.395751</td>\n",
       "      <td>0.298902</td>\n",
       "      <td>1.000000</td>\n",
       "      <td>0.322330</td>\n",
       "      <td>-0.077163</td>\n",
       "      <td>0.051345</td>\n",
       "    </tr>\n",
       "    <tr>\n",
       "      <th>11</th>\n",
       "      <td>0.185912</td>\n",
       "      <td>0.271207</td>\n",
       "      <td>0.322330</td>\n",
       "      <td>1.000000</td>\n",
       "      <td>-0.120096</td>\n",
       "      <td>0.063692</td>\n",
       "    </tr>\n",
       "    <tr>\n",
       "      <th>14</th>\n",
       "      <td>-0.079812</td>\n",
       "      <td>-0.224242</td>\n",
       "      <td>-0.077163</td>\n",
       "      <td>-0.120096</td>\n",
       "      <td>1.000000</td>\n",
       "      <td>0.066853</td>\n",
       "    </tr>\n",
       "    <tr>\n",
       "      <th>15</th>\n",
       "      <td>0.018553</td>\n",
       "      <td>0.123121</td>\n",
       "      <td>0.051345</td>\n",
       "      <td>0.063692</td>\n",
       "      <td>0.066853</td>\n",
       "      <td>1.000000</td>\n",
       "    </tr>\n",
       "  </tbody>\n",
       "</table>\n",
       "</div>"
      ],
      "text/plain": [
       "          2         3         8         11        14        15\n",
       "2   1.000000  0.202317  0.395751  0.185912 -0.079812  0.018553\n",
       "3   0.202317  1.000000  0.298902  0.271207 -0.224242  0.123121\n",
       "8   0.395751  0.298902  1.000000  0.322330 -0.077163  0.051345\n",
       "11  0.185912  0.271207  0.322330  1.000000 -0.120096  0.063692\n",
       "14 -0.079812 -0.224242 -0.077163 -0.120096  1.000000  0.066853\n",
       "15  0.018553  0.123121  0.051345  0.063692  0.066853  1.000000"
      ]
     },
     "execution_count": 55,
     "metadata": {},
     "output_type": "execute_result"
    }
   ],
   "source": [
    "credit.corr() "
   ]
  },
  {
   "cell_type": "code",
   "execution_count": 56,
   "metadata": {},
   "outputs": [
    {
     "data": {
      "image/png": "[encoded data removed]",
      "text/plain": [
       "<Figure size 432x288 with 2 Axes>"
      ]
     },
     "metadata": {
      "needs_background": "light"
     },
     "output_type": "display_data"
    }
   ],
   "source": [
    "ax = sns.heatmap(\n",
    "    credit.corr(),\n",
    "    vmin=-1,\n",
    "    vmax=1,\n",
    "    cmap=sns.diverging_palette(h_neg=220, h_pos=10, n=21),\n",
    "    annot=True\n",
    ")"
   ]
  },
  {
   "cell_type": "markdown",
   "metadata": {},
   "source": [
    "- What do you notice about this dataset that will make a difference to how you model it? Feel free to do additional EDA at this point."
   ]
  },
  {
   "cell_type": "markdown",
   "metadata": {},
   "source": [
    "This dataset has several columns with null values.We don't know what each column represents. This makes it hard to make an educated guess to fill in that data.Some ways we can deal with the missing values, is replace the NA values with the mean for continous variables, or the most common value for categorical values. I will just drop the rows with missing values for our first pass model. \n",
    "\n",
    "Additionally there is a lot of categorical data. In order to find the correlation between our feature and target variables we should convert our target variable into a numerical feature (0,1) to more easily determine relationship between our features"
   ]
  },
  {
   "cell_type": "markdown",
   "metadata": {},
   "source": [
    "- What is the accuracy of a null model that just predicts the most common outcome each time on this dataset?"
   ]
  },
  {
   "cell_type": "code",
   "execution_count": 112,
   "metadata": {},
   "outputs": [
    {
     "data": {
      "text/plain": [
       "-    383\n",
       "+    307\n",
       "Name: 16, dtype: int64"
      ]
     },
     "execution_count": 112,
     "metadata": {},
     "output_type": "execute_result"
    }
   ],
   "source": [
    "credit.loc[:,16].value_counts()"
   ]
  },
  {
   "cell_type": "markdown",
   "metadata": {},
   "source": [
    "~55%"
   ]
  },
  {
   "cell_type": "markdown",
   "metadata": {},
   "source": [
    "### Logistic Regression"
   ]
  },
  {
   "cell_type": "markdown",
   "metadata": {},
   "source": [
    "- Develop a logistic regression model to predict the target variable `16`. Train it on 70% of the data. Gets its accuracy score on both that 70% and the other 30%. Use dummy-coding on categorical columns. Otherwise, at this point just do the bare minimum to get the model to run, without worrying about feature engineering or other practices you might use to improve the model."
   ]
  },
  {
   "cell_type": "code",
   "execution_count": 60,
   "metadata": {},
   "outputs": [],
   "source": [
    "credit_model=pd.get_dummies(credit, columns=[1,4,5,6,7,9,10,12,13],drop_first=True)"
   ]
  },
  {
   "cell_type": "code",
   "execution_count": 61,
   "metadata": {},
   "outputs": [
    {
     "data": {
      "text/plain": [
       "Index([     2,      3,      8,     11,     14,     15,     16,  '1_b',  '4_u',\n",
       "        '4_y', '5_gg',  '5_p',  '6_c', '6_cc',  '6_d',  '6_e', '6_ff',  '6_i',\n",
       "        '6_j',  '6_k',  '6_m',  '6_q',  '6_r',  '6_w',  '6_x', '7_dd', '7_ff',\n",
       "        '7_h',  '7_j',  '7_n',  '7_o',  '7_v',  '7_z',  '9_t', '10_t', '12_t',\n",
       "       '13_p', '13_s'],\n",
       "      dtype='object')"
      ]
     },
     "execution_count": 61,
     "metadata": {},
     "output_type": "execute_result"
    }
   ],
   "source": [
    "credit_model.columns"
   ]
  },
  {
   "cell_type": "code",
   "execution_count": 106,
   "metadata": {},
   "outputs": [],
   "source": [
    "X = credit_model.drop([16], axis=\"columns\").dropna(axis=\"columns\")\n",
    "y = credit_model.loc[:, 16]"
   ]
  },
  {
   "cell_type": "code",
   "execution_count": 109,
   "metadata": {},
   "outputs": [
    {
     "data": {
      "text/plain": [
       "LogisticRegression(max_iter=10000)"
      ]
     },
     "execution_count": 109,
     "metadata": {},
     "output_type": "execute_result"
    }
   ],
   "source": [
    "from sklearn.model_selection import train_test_split\n",
    "\n",
    "X_train, X_test, y_train, y_test = train_test_split(X, y, test_size=.3)\n",
    "from sklearn.linear_model import LogisticRegression\n",
    "lr_credit = LogisticRegression( max_iter=10000)\n",
    "lr_credit.fit(X_train, y_train)"
   ]
  },
  {
   "cell_type": "code",
   "execution_count": 110,
   "metadata": {},
   "outputs": [
    {
     "name": "stdout",
     "output_type": "stream",
     "text": [
      "0.8592132505175983\n",
      "0.8743961352657005\n"
     ]
    }
   ],
   "source": [
    "print(lr_credit.score(X_train, y_train))\n",
    "print(lr_credit.score(X_test, y_test))"
   ]
  },
  {
   "cell_type": "code",
   "execution_count": 65,
   "metadata": {},
   "outputs": [
    {
     "data": {
      "text/plain": [
       "-    0.536232\n",
       "+    0.463768\n",
       "Name: 16, dtype: float64"
      ]
     },
     "execution_count": 65,
     "metadata": {},
     "output_type": "execute_result"
    }
   ],
   "source": [
    "y_test.value_counts(normalize=True)"
   ]
  },
  {
   "cell_type": "markdown",
   "metadata": {},
   "source": [
    "- How well did your model perform on the training set compared to the null model? What does this result tell you about the bias and/or variance of your model?"
   ]
  },
  {
   "cell_type": "markdown",
   "metadata": {},
   "source": [
    "##### Our model performed better than the null model. Can't tell much about the variance from comparing null model to training set, but will assume that we can improve bias despite not knowing optimal performance of a ML model"
   ]
  },
  {
   "cell_type": "markdown",
   "metadata": {},
   "source": [
    "- How well did your model perform on the test set compared to how well it performed on the training set? What does this result tell you about the bias and/or variance of your model?"
   ]
  },
  {
   "cell_type": "markdown",
   "metadata": {},
   "source": [
    "##### Train and Test set performed pretty similarly. Both the training and testing set performed pretty well. This tells us we are seeing a good balance between variance and bias"
   ]
  },
  {
   "cell_type": "markdown",
   "metadata": {},
   "source": [
    "- Does your model appear to have more of a bias problem or more of a variance problem? Why?"
   ]
  },
  {
   "cell_type": "markdown",
   "metadata": {},
   "source": [
    "##### Model appears to have more of a bias problem. Given the small gap between test and train performance we are less concered about improving the variance when tuning. We don't know the optimal perfornance of this model, but would rather work towards improving the bias since variance is very low"
   ]
  },
  {
   "cell_type": "markdown",
   "metadata": {},
   "source": [
    "### Random Forest"
   ]
  },
  {
   "cell_type": "markdown",
   "metadata": {},
   "source": [
    "- Develop a random forest model with 100 or more trees to predict the target variable. Train it on 70% of the data. Gets its R-squared score on both that 70% and the other 30%. At this point just do the bare minimum to get the model to run, without worrying about feature engineering or other practices you might use to improve the model.\n",
    "\n",
    "You can do this exercise even if we haven't covered random forests in class yet. Just do `from sklearn.ensemble import RandomForestClassifier` and then use `RandomForestClassifier` like any other scikit-learn estimator."
   ]
  },
  {
   "cell_type": "code",
   "execution_count": 102,
   "metadata": {},
   "outputs": [],
   "source": [
    "X = credit_model.drop([16], axis=\"columns\").dropna(axis=\"columns\")\n",
    "y = credit_model.loc[:, 16]"
   ]
  },
  {
   "cell_type": "code",
   "execution_count": 103,
   "metadata": {},
   "outputs": [],
   "source": [
    "X_train, X_test, y_train, y_test = train_test_split(X, y, test_size=.3)\n",
    "from sklearn.ensemble import RandomForestClassifier"
   ]
  },
  {
   "cell_type": "code",
   "execution_count": 104,
   "metadata": {},
   "outputs": [
    {
     "name": "stdout",
     "output_type": "stream",
     "text": [
      "0.9958592132505176\n",
      "0.8695652173913043\n"
     ]
    }
   ],
   "source": [
    "rfr = RandomForestClassifier(n_estimators=100)\n",
    "rfr.fit(X_train, y_train)\n",
    "print(rfr.score(X_train, y_train))\n",
    "print(rfr.score(X_test, y_test))"
   ]
  },
  {
   "cell_type": "markdown",
   "metadata": {},
   "source": [
    "- Compare the bias, variance, and overall predictive performance of your random forest model to that of your logistic regression model."
   ]
  },
  {
   "cell_type": "markdown",
   "metadata": {},
   "source": [
    "##### RF and LR generated a similar test score. Unlike LR, RF has high variance but low bias. We are seeing higher variance because there is a larger gap between train/test scores, but lower bias because the train test is performing very well. "
   ]
  },
  {
   "cell_type": "markdown",
   "metadata": {},
   "source": [
    "- Find a way to get a better score from either logistic regression or a random forest. Make notes about what you are trying and why."
   ]
  },
  {
   "cell_type": "markdown",
   "metadata": {},
   "source": [
    "##### Will try filling in null values to help improve our overall score for logistic regression model. "
   ]
  },
  {
   "cell_type": "code",
   "execution_count": 69,
   "metadata": {},
   "outputs": [],
   "source": [
    "credit_2 = credit.fillna(credit.mean())\n"
   ]
  },
  {
   "cell_type": "code",
   "execution_count": 70,
   "metadata": {},
   "outputs": [
    {
     "name": "stdout",
     "output_type": "stream",
     "text": [
      "42\n"
     ]
    }
   ],
   "source": [
    "print(credit_2.isnull().values.sum())"
   ]
  },
  {
   "cell_type": "code",
   "execution_count": 71,
   "metadata": {},
   "outputs": [
    {
     "data": {
      "text/plain": [
       "1     12\n",
       "2      0\n",
       "3      0\n",
       "4      6\n",
       "5      6\n",
       "6      9\n",
       "7      9\n",
       "8      0\n",
       "9      0\n",
       "10     0\n",
       "11     0\n",
       "12     0\n",
       "13     0\n",
       "14     0\n",
       "15     0\n",
       "16     0\n",
       "dtype: int64"
      ]
     },
     "execution_count": 71,
     "metadata": {},
     "output_type": "execute_result"
    }
   ],
   "source": [
    "credit_2.isna().sum()"
   ]
  },
  {
   "cell_type": "code",
   "execution_count": 72,
   "metadata": {},
   "outputs": [],
   "source": [
    "credit_2=credit_2.fillna(credit_2[1].value_counts().index[0])\n",
    "credit_2=credit_2.fillna(credit_2[4].value_counts().index[0])\n",
    "credit_2=credit_2.fillna(credit_2[5].value_counts().index[0])\n",
    "credit_2=credit_2.fillna(credit_2[6].value_counts().index[0])\n",
    "credit_2=credit_2.fillna(credit_2[7].value_counts().index[0])"
   ]
  },
  {
   "cell_type": "code",
   "execution_count": 73,
   "metadata": {},
   "outputs": [
    {
     "data": {
      "text/plain": [
       "1     0\n",
       "2     0\n",
       "3     0\n",
       "4     0\n",
       "5     0\n",
       "6     0\n",
       "7     0\n",
       "8     0\n",
       "9     0\n",
       "10    0\n",
       "11    0\n",
       "12    0\n",
       "13    0\n",
       "14    0\n",
       "15    0\n",
       "16    0\n",
       "dtype: int64"
      ]
     },
     "execution_count": 73,
     "metadata": {},
     "output_type": "execute_result"
    }
   ],
   "source": [
    "credit_2.isna().sum()"
   ]
  },
  {
   "cell_type": "code",
   "execution_count": 74,
   "metadata": {},
   "outputs": [],
   "source": [
    "credit_2=pd.get_dummies(credit_2, columns=[1,4,5,6,7,9,10,12,13],drop_first=True)"
   ]
  },
  {
   "cell_type": "code",
   "execution_count": 78,
   "metadata": {},
   "outputs": [],
   "source": [
    "X = credit_2.drop([16], axis=\"columns\").dropna(axis=\"columns\")\n",
    "y = credit_2.loc[:, 16]"
   ]
  },
  {
   "cell_type": "code",
   "execution_count": 85,
   "metadata": {},
   "outputs": [
    {
     "data": {
      "text/plain": [
       "LogisticRegression(max_iter=10000)"
      ]
     },
     "execution_count": 85,
     "metadata": {},
     "output_type": "execute_result"
    }
   ],
   "source": [
    "X_train, X_test, y_train, y_test = train_test_split(X, y, test_size=.3)\n",
    "from sklearn.linear_model import LogisticRegression\n",
    "lr_2 = LogisticRegression(max_iter=10000)\n",
    "lr_2.fit(X_train, y_train)"
   ]
  },
  {
   "cell_type": "code",
   "execution_count": 86,
   "metadata": {},
   "outputs": [
    {
     "name": "stdout",
     "output_type": "stream",
     "text": [
      "0.8674948240165632\n",
      "0.9082125603864735\n"
     ]
    }
   ],
   "source": [
    "print(lr_2.score(X_train, y_train))\n",
    "print(lr_2.score(X_test, y_test))"
   ]
  },
  {
   "cell_type": "code",
   "execution_count": 83,
   "metadata": {},
   "outputs": [
    {
     "data": {
      "text/html": [
       "<div>\n",
       "<style scoped>\n",
       "    .dataframe tbody tr th:only-of-type {\n",
       "        vertical-align: middle;\n",
       "    }\n",
       "\n",
       "    .dataframe tbody tr th {\n",
       "        vertical-align: top;\n",
       "    }\n",
       "\n",
       "    .dataframe thead th {\n",
       "        text-align: right;\n",
       "    }\n",
       "</style>\n",
       "<table border=\"1\" class=\"dataframe\">\n",
       "  <thead>\n",
       "    <tr style=\"text-align: right;\">\n",
       "      <th></th>\n",
       "      <th>Predicted 0</th>\n",
       "      <th>Predicted 1</th>\n",
       "    </tr>\n",
       "  </thead>\n",
       "  <tbody>\n",
       "    <tr>\n",
       "      <th>Actual 0</th>\n",
       "      <td>83</td>\n",
       "      <td>11</td>\n",
       "    </tr>\n",
       "    <tr>\n",
       "      <th>Actual 1</th>\n",
       "      <td>12</td>\n",
       "      <td>101</td>\n",
       "    </tr>\n",
       "  </tbody>\n",
       "</table>\n",
       "</div>"
      ],
      "text/plain": [
       "          Predicted 0  Predicted 1\n",
       "Actual 0           83           11\n",
       "Actual 1           12          101"
      ]
     },
     "execution_count": 83,
     "metadata": {},
     "output_type": "execute_result"
    }
   ],
   "source": [
    "from sklearn import metrics\n",
    "y_pred = lr_2.predict(X_test)\n",
    "cm = metrics.confusion_matrix(y_test, y_pred)\n",
    "pd.DataFrame(cm, columns=[\"Predicted 0\", \"Predicted 1\"], index=[\"Actual 0\", \"Actual 1\"])"
   ]
  },
  {
   "cell_type": "code",
   "execution_count": 115,
   "metadata": {},
   "outputs": [],
   "source": [
    "#we were able to improve our accuracy score a decent amount by filling in null values. That being said this model is now\n",
    "#seeing higher variance than it originally was. Overall, our variance is not too bad especially in comparision to our RF model"
   ]
  },
  {
   "cell_type": "markdown",
   "metadata": {},
   "source": [
    "- **BONUS:** Keep going! Find ways to make your model better."
   ]
  },
  {
   "cell_type": "code",
   "execution_count": null,
   "metadata": {},
   "outputs": [],
   "source": []
  },
  {
   "cell_type": "code",
   "execution_count": null,
   "metadata": {},
   "outputs": [],
   "source": []
  }
 ],
 "metadata": {
  "kernelspec": {
   "display_name": "Python 3",
   "language": "python",
   "name": "python3"
  },
  "language_info": {
   "codemirror_mode": {
    "name": "ipython",
    "version": 3
   },
   "file_extension": ".py",
   "mimetype": "text/x-python",
   "name": "python",
   "nbconvert_exporter": "python",
   "pygments_lexer": "ipython3",
   "version": "3.8.3"
  }
 },
 "nbformat": 4,
 "nbformat_minor": 4
}
